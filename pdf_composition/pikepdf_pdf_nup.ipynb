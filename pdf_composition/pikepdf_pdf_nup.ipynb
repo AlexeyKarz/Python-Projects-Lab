{
 "cells": [
  {
   "cell_type": "code",
   "execution_count": 1,
   "id": "668b764c",
   "metadata": {
    "scrolled": true
   },
   "outputs": [],
   "source": [
    "# pip install pikepdf"
   ]
  },
  {
   "cell_type": "code",
   "execution_count": 2,
   "id": "b6ee64c8",
   "metadata": {
    "scrolled": true
   },
   "outputs": [],
   "source": [
    "from pikepdf import Pdf, Page, Rectangle\n",
    "from math import ceil"
   ]
  },
  {
   "cell_type": "code",
   "execution_count": 3,
   "id": "b156c1c0",
   "metadata": {},
   "outputs": [],
   "source": [
    "pdf_path = \"PATH_TO_SOURCE_PDF\""
   ]
  },
  {
   "cell_type": "code",
   "execution_count": 4,
   "id": "d08a283c",
   "metadata": {},
   "outputs": [],
   "source": [
    "pdf = Pdf.open(pdf_path)"
   ]
  },
  {
   "cell_type": "code",
   "execution_count": 5,
   "id": "1f749b66",
   "metadata": {},
   "outputs": [
    {
     "data": {
      "text/plain": [
       "15"
      ]
     },
     "execution_count": 5,
     "metadata": {},
     "output_type": "execute_result"
    }
   ],
   "source": [
    "num_of_pages = len(pdf.pages)\n",
    "len(pdf.pages)"
   ]
  },
  {
   "cell_type": "code",
   "execution_count": 6,
   "id": "d0a3f674",
   "metadata": {},
   "outputs": [
    {
     "data": {
      "text/plain": [
       "2"
      ]
     },
     "execution_count": 6,
     "metadata": {},
     "output_type": "execute_result"
    }
   ],
   "source": [
    "num_of_new_pages = ceil(len(pdf.pages)/9)\n",
    "num_of_new_pages"
   ]
  },
  {
   "cell_type": "code",
   "execution_count": 7,
   "id": "96707290",
   "metadata": {},
   "outputs": [
    {
     "data": {
      "text/plain": [
       "pikepdf.Array([ Decimal('0.0'), Decimal('7.920007'), Decimal('1440.0'), Decimal('817.92') ])"
      ]
     },
     "execution_count": 7,
     "metadata": {},
     "output_type": "execute_result"
    }
   ],
   "source": [
    "page1 = pdf.pages[0]\n",
    "page1.trimbox"
   ]
  },
  {
   "cell_type": "code",
   "execution_count": 8,
   "id": "a31f5658",
   "metadata": {},
   "outputs": [],
   "source": [
    "for i in page1.trimbox:\n",
    "    i = float(i)"
   ]
  },
  {
   "cell_type": "code",
   "execution_count": 9,
   "id": "d559ad7b",
   "metadata": {},
   "outputs": [],
   "source": [
    "page_width = page1.trimbox[2]"
   ]
  },
  {
   "cell_type": "code",
   "execution_count": 10,
   "id": "19f7d349",
   "metadata": {},
   "outputs": [],
   "source": [
    "# calculate the width for the blank pages. convert to float if it is not already\n",
    "width = float(page1.trimbox[2])*3\n",
    "height = float(page1.trimbox[3])*3"
   ]
  },
  {
   "cell_type": "code",
   "execution_count": 11,
   "id": "5889e42c",
   "metadata": {},
   "outputs": [],
   "source": [
    "for i in range(num_of_new_pages):\n",
    "    pdf.add_blank_page(page_size = (width, height))"
   ]
  },
  {
   "cell_type": "code",
   "execution_count": 12,
   "id": "54614ac3",
   "metadata": {},
   "outputs": [
    {
     "data": {
      "text/plain": [
       "17"
      ]
     },
     "execution_count": 12,
     "metadata": {},
     "output_type": "execute_result"
    }
   ],
   "source": [
    "len(pdf.pages)"
   ]
  },
  {
   "cell_type": "code",
   "execution_count": 13,
   "id": "fc8fb04e",
   "metadata": {},
   "outputs": [],
   "source": [
    "positions = [[0,height*(2/3),width/3,height],\n",
    "            [width/3,height*(2/3),width*(2/3),height],\n",
    "            [width*(2/3),height*(2/3),width,height],\n",
    "            [0,height/3,width/3,height*(2/3)],\n",
    "            [width/3,height/3,width*(2/3),height*(2/3)],\n",
    "            [width*(2/3),height/3,width,height*(2/3)],\n",
    "            [0,0,width/3,height/3],\n",
    "            [width/3,0,width*(2/3),height/3],\n",
    "            [width*(2/3),0,width,height/3]]"
   ]
  },
  {
   "cell_type": "code",
   "execution_count": 14,
   "id": "5d271aa2",
   "metadata": {},
   "outputs": [],
   "source": [
    "idx_first_blank_page = num_of_pages"
   ]
  },
  {
   "cell_type": "code",
   "execution_count": 15,
   "id": "f5a690c0",
   "metadata": {
    "scrolled": true
   },
   "outputs": [],
   "source": [
    "blank_page_num = 0\n",
    "for page_num in range(idx_first_blank_page, idx_first_blank_page + num_of_new_pages):\n",
    "    for i in range(0, 9):\n",
    "        p = positions[i]\n",
    "        if (i + blank_page_num*9 < num_of_pages):\n",
    "            pdf.pages[page_num].add_overlay(pdf.pages[i + blank_page_num*9], \n",
    "                               Rectangle(p[0], p[1], p[2], p[3]))\n",
    "            if (i == 8):\n",
    "                blank_page_num += 1\n",
    "        "
   ]
  },
  {
   "cell_type": "code",
   "execution_count": 16,
   "id": "e8a1b318",
   "metadata": {},
   "outputs": [],
   "source": [
    "del pdf.pages[0:num_of_pages]"
   ]
  },
  {
   "cell_type": "code",
   "execution_count": 17,
   "id": "5a5b4f0e",
   "metadata": {},
   "outputs": [],
   "source": [
    "save_path = \"PATH_TO_OUTPUT_PDF\""
   ]
  },
  {
   "cell_type": "code",
   "execution_count": 18,
   "id": "475b7fdc",
   "metadata": {},
   "outputs": [],
   "source": [
    "pdf.save(save_path)"
   ]
  }
 ],
 "metadata": {
  "kernelspec": {
   "display_name": "Python 3 (ipykernel)",
   "language": "python",
   "name": "python3"
  },
  "language_info": {
   "codemirror_mode": {
    "name": "ipython",
    "version": 3
   },
   "file_extension": ".py",
   "mimetype": "text/x-python",
   "name": "python",
   "nbconvert_exporter": "python",
   "pygments_lexer": "ipython3",
   "version": "3.11.4"
  }
 },
 "nbformat": 4,
 "nbformat_minor": 5
}
